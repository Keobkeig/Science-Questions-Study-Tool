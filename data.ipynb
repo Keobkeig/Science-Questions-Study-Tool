{
 "cells": [
  {
   "cell_type": "code",
   "execution_count": 1,
   "id": "b269004d",
   "metadata": {},
   "outputs": [],
   "source": [
    "import pandas as pd \n",
    "import nltk "
   ]
  },
  {
   "cell_type": "code",
   "execution_count": 2,
   "id": "e50d9e43",
   "metadata": {
    "scrolled": true
   },
   "outputs": [
    {
     "data": {
      "text/html": [
       "<div>\n",
       "<style scoped>\n",
       "    .dataframe tbody tr th:only-of-type {\n",
       "        vertical-align: middle;\n",
       "    }\n",
       "\n",
       "    .dataframe tbody tr th {\n",
       "        vertical-align: top;\n",
       "    }\n",
       "\n",
       "    .dataframe thead th {\n",
       "        text-align: right;\n",
       "    }\n",
       "</style>\n",
       "<table border=\"1\" class=\"dataframe\">\n",
       "  <thead>\n",
       "    <tr style=\"text-align: right;\">\n",
       "      <th></th>\n",
       "      <th>Comment</th>\n",
       "      <th>Topic</th>\n",
       "    </tr>\n",
       "  </thead>\n",
       "  <tbody>\n",
       "    <tr>\n",
       "      <th>0</th>\n",
       "      <td>A few things. You might have negative- frequen...</td>\n",
       "      <td>Biology</td>\n",
       "    </tr>\n",
       "    <tr>\n",
       "      <th>1</th>\n",
       "      <td>Is it so hard to believe that there exist part...</td>\n",
       "      <td>Physics</td>\n",
       "    </tr>\n",
       "    <tr>\n",
       "      <th>2</th>\n",
       "      <td>There are bees</td>\n",
       "      <td>Biology</td>\n",
       "    </tr>\n",
       "    <tr>\n",
       "      <th>3</th>\n",
       "      <td>I'm a medication technician. And that's alot o...</td>\n",
       "      <td>Biology</td>\n",
       "    </tr>\n",
       "    <tr>\n",
       "      <th>4</th>\n",
       "      <td>Cesium is such a pretty metal.</td>\n",
       "      <td>Chemistry</td>\n",
       "    </tr>\n",
       "    <tr>\n",
       "      <th>...</th>\n",
       "      <td>...</td>\n",
       "      <td>...</td>\n",
       "    </tr>\n",
       "    <tr>\n",
       "      <th>8690</th>\n",
       "      <td>I make similar observations over the last week...</td>\n",
       "      <td>Biology</td>\n",
       "    </tr>\n",
       "    <tr>\n",
       "      <th>8691</th>\n",
       "      <td>You would know.</td>\n",
       "      <td>Biology</td>\n",
       "    </tr>\n",
       "    <tr>\n",
       "      <th>8692</th>\n",
       "      <td>Also use the correct number of sig figs</td>\n",
       "      <td>Chemistry</td>\n",
       "    </tr>\n",
       "    <tr>\n",
       "      <th>8693</th>\n",
       "      <td>What about the ethical delimmas,  groundbreaki...</td>\n",
       "      <td>Biology</td>\n",
       "    </tr>\n",
       "    <tr>\n",
       "      <th>8694</th>\n",
       "      <td>I would like to know too.</td>\n",
       "      <td>Biology</td>\n",
       "    </tr>\n",
       "  </tbody>\n",
       "</table>\n",
       "<p>8695 rows × 2 columns</p>\n",
       "</div>"
      ],
      "text/plain": [
       "                                                Comment      Topic\n",
       "0     A few things. You might have negative- frequen...    Biology\n",
       "1     Is it so hard to believe that there exist part...    Physics\n",
       "2                                        There are bees    Biology\n",
       "3     I'm a medication technician. And that's alot o...    Biology\n",
       "4                        Cesium is such a pretty metal.  Chemistry\n",
       "...                                                 ...        ...\n",
       "8690  I make similar observations over the last week...    Biology\n",
       "8691                                    You would know.    Biology\n",
       "8692            Also use the correct number of sig figs  Chemistry\n",
       "8693  What about the ethical delimmas,  groundbreaki...    Biology\n",
       "8694                          I would like to know too.    Biology\n",
       "\n",
       "[8695 rows x 2 columns]"
      ]
     },
     "execution_count": 2,
     "metadata": {},
     "output_type": "execute_result"
    }
   ],
   "source": [
    "data = pd.read_csv('train.csv')\n",
    "data.drop('Id',axis=1 , inplace=True)\n",
    "data"
   ]
  },
  {
   "cell_type": "code",
   "execution_count": 3,
   "id": "f1c73034",
   "metadata": {},
   "outputs": [
    {
     "data": {
      "text/plain": [
       "Comment    object\n",
       "Topic      object\n",
       "dtype: object"
      ]
     },
     "execution_count": 3,
     "metadata": {},
     "output_type": "execute_result"
    }
   ],
   "source": [
    "data.shape \n",
    "data.dtypes"
   ]
  },
  {
   "cell_type": "code",
   "execution_count": 4,
   "id": "23205bfe",
   "metadata": {},
   "outputs": [
    {
     "data": {
      "text/plain": [
       "0       A few things. You might have negative- frequen...\n",
       "1       Is it so hard to believe that there exist part...\n",
       "2                                          There are bees\n",
       "3       I'm a medication technician. And that's alot o...\n",
       "4                          Cesium is such a pretty metal.\n",
       "                              ...                        \n",
       "8690    I make similar observations over the last week...\n",
       "8691                                      You would know.\n",
       "8692              Also use the correct number of sig figs\n",
       "8693    What about the ethical delimmas,  groundbreaki...\n",
       "8694                            I would like to know too.\n",
       "Name: Comment, Length: 8695, dtype: object"
      ]
     },
     "execution_count": 4,
     "metadata": {},
     "output_type": "execute_result"
    }
   ],
   "source": [
    "CommentsToBeTokenized = data['Comment'] \n",
    "CommentsToBeTokenized"
   ]
  },
  {
   "cell_type": "code",
   "execution_count": 5,
   "id": "cec40583",
   "metadata": {},
   "outputs": [
    {
     "data": {
      "text/plain": [
       "['A',\n",
       " 'few',\n",
       " 'things.',\n",
       " 'You',\n",
       " 'might',\n",
       " 'have',\n",
       " 'negative-',\n",
       " 'frequency',\n",
       " 'dependent',\n",
       " 'selection',\n",
       " 'going',\n",
       " 'on',\n",
       " 'where',\n",
       " 'the',\n",
       " 'least',\n",
       " 'common',\n",
       " 'phenotype,',\n",
       " 'reflected',\n",
       " 'by',\n",
       " 'genotype,',\n",
       " 'is',\n",
       " 'going',\n",
       " 'to',\n",
       " 'have',\n",
       " 'an',\n",
       " 'advantage',\n",
       " 'in',\n",
       " 'the',\n",
       " 'environment.',\n",
       " 'For',\n",
       " 'instance,',\n",
       " 'if',\n",
       " 'a',\n",
       " 'prey',\n",
       " 'animal',\n",
       " 'such',\n",
       " 'as',\n",
       " 'a',\n",
       " 'vole',\n",
       " 'were',\n",
       " 'to',\n",
       " 'have',\n",
       " 'a',\n",
       " 'light',\n",
       " 'and',\n",
       " 'a',\n",
       " 'dark',\n",
       " 'phenotype,',\n",
       " 'a',\n",
       " 'predator',\n",
       " 'might',\n",
       " 'recognize',\n",
       " 'the',\n",
       " 'more',\n",
       " 'common',\n",
       " 'phenotype',\n",
       " 'as',\n",
       " 'food.',\n",
       " 'So',\n",
       " 'if',\n",
       " 'the',\n",
       " 'light',\n",
       " 'voles',\n",
       " 'are',\n",
       " 'more',\n",
       " 'common,',\n",
       " 'foxes',\n",
       " 'may',\n",
       " 'be',\n",
       " 'keeping',\n",
       " 'a',\n",
       " 'closer',\n",
       " 'eye',\n",
       " 'out',\n",
       " 'for',\n",
       " 'light',\n",
       " 'phenotypic',\n",
       " 'voles,',\n",
       " 'recognising',\n",
       " 'them',\n",
       " 'as',\n",
       " 'good',\n",
       " 'prey.',\n",
       " 'This',\n",
       " 'would',\n",
       " 'reduce',\n",
       " 'the',\n",
       " 'light',\n",
       " 'causing',\n",
       " 'alleles',\n",
       " 'due',\n",
       " 'to',\n",
       " 'increased',\n",
       " 'predation',\n",
       " 'and',\n",
       " 'the',\n",
       " 'dark',\n",
       " 'genotypes',\n",
       " 'would',\n",
       " 'increase',\n",
       " 'their',\n",
       " 'proportion',\n",
       " 'of',\n",
       " 'the',\n",
       " 'population',\n",
       " 'until',\n",
       " 'this',\n",
       " 'scenario',\n",
       " 'is',\n",
       " 'reversed.',\n",
       " 'This',\n",
       " 'cycle',\n",
       " 'continues',\n",
       " 'perpetually.',\n",
       " '\\\\n\\\\nHowever,',\n",
       " 'this',\n",
       " 'is',\n",
       " 'unlikely',\n",
       " 'to',\n",
       " 'be',\n",
       " 'strictly',\n",
       " 'yearly',\n",
       " 'as',\n",
       " 'it',\n",
       " 'usually',\n",
       " 'takes',\n",
       " 'more',\n",
       " 'time',\n",
       " 'than',\n",
       " 'a',\n",
       " 'year',\n",
       " 'for',\n",
       " 'an',\n",
       " 'entire',\n",
       " 'populations',\n",
       " 'allele',\n",
       " 'frequencies',\n",
       " 'to',\n",
       " 'change',\n",
       " 'enough',\n",
       " 'to',\n",
       " 'make',\n",
       " 'a',\n",
       " 'large',\n",
       " 'enough',\n",
       " 'difference',\n",
       " 'to',\n",
       " 'alter',\n",
       " 'fitness.',\n",
       " '\\\\n\\\\nMore',\n",
       " 'likely',\n",
       " 'on',\n",
       " 'a',\n",
       " '*year',\n",
       " 'to',\n",
       " 'year*',\n",
       " 'basis,',\n",
       " 'the',\n",
       " 'population',\n",
       " 'is',\n",
       " 'experiencing',\n",
       " 'fluctuating',\n",
       " 'selection',\n",
       " 'where',\n",
       " 'alternating',\n",
       " 'conditions',\n",
       " 'in',\n",
       " 'the',\n",
       " 'environment',\n",
       " 'favor',\n",
       " 'one',\n",
       " 'genotype',\n",
       " 'over',\n",
       " 'another.',\n",
       " 'Perhaps',\n",
       " 'a',\n",
       " 'plant',\n",
       " 'species',\n",
       " 'is',\n",
       " 'living',\n",
       " 'in',\n",
       " 'an',\n",
       " 'area',\n",
       " 'that',\n",
       " 'is',\n",
       " 'flooded',\n",
       " 'every',\n",
       " 'other',\n",
       " 'year',\n",
       " 'and',\n",
       " 'the',\n",
       " 'two',\n",
       " 'phenotypes',\n",
       " 'in',\n",
       " 'the',\n",
       " 'population',\n",
       " 'are',\n",
       " 'plants',\n",
       " 'that',\n",
       " 'do',\n",
       " 'much',\n",
       " 'better',\n",
       " 'in',\n",
       " 'the',\n",
       " 'dryer',\n",
       " 'year',\n",
       " 'and',\n",
       " 'one',\n",
       " 'that',\n",
       " 'does',\n",
       " 'better',\n",
       " 'in',\n",
       " 'the',\n",
       " 'wet',\n",
       " 'year.',\n",
       " 'If',\n",
       " 'there',\n",
       " 'is',\n",
       " 'no',\n",
       " 'flooding,',\n",
       " 'the',\n",
       " 'dry-type',\n",
       " 'genotype',\n",
       " 'will',\n",
       " 'have',\n",
       " 'more',\n",
       " 'fitness',\n",
       " 'leading',\n",
       " 'to',\n",
       " 'more',\n",
       " 'offspring',\n",
       " 'and',\n",
       " 'therefore',\n",
       " 'more',\n",
       " 'dry',\n",
       " 'alleles',\n",
       " 'in',\n",
       " 'the',\n",
       " 'population,',\n",
       " 'however,',\n",
       " 'in',\n",
       " 'flooded',\n",
       " 'years',\n",
       " 'the',\n",
       " 'wet-liking',\n",
       " 'phenotype',\n",
       " 'will',\n",
       " 'do',\n",
       " 'better',\n",
       " 'and',\n",
       " 'propagate',\n",
       " 'the',\n",
       " 'wet',\n",
       " 'genes.']"
      ]
     },
     "execution_count": 5,
     "metadata": {},
     "output_type": "execute_result"
    }
   ],
   "source": [
    "tokens = CommentsToBeTokenized[0].split()\n",
    "tokens"
   ]
  },
  {
   "cell_type": "code",
   "execution_count": 6,
   "id": "b46faf29",
   "metadata": {},
   "outputs": [],
   "source": [
    "from sklearn.feature_extraction.text import CountVectorizer\n",
    "cv = CountVectorizer()\n",
    "bow = cv.fit_transform(CommentsToBeTokenized)"
   ]
  },
  {
   "cell_type": "code",
   "execution_count": 7,
   "id": "eae866bd",
   "metadata": {},
   "outputs": [
    {
     "data": {
      "text/plain": [
       "<8695x18177 sparse matrix of type '<class 'numpy.int64'>'\n",
       "\twith 190076 stored elements in Compressed Sparse Row format>"
      ]
     },
     "execution_count": 7,
     "metadata": {},
     "output_type": "execute_result"
    }
   ],
   "source": [
    "bow"
   ]
  },
  {
   "cell_type": "code",
   "execution_count": 8,
   "id": "3cfa2f86",
   "metadata": {},
   "outputs": [],
   "source": [
    "from sklearn.feature_extraction.text import TfidfVectorizer\n",
    "tfidf = TfidfVectorizer()\n",
    "tfidf_result=tfidf.fit_transform(CommentsToBeTokenized).toarray()"
   ]
  },
  {
   "cell_type": "code",
   "execution_count": 9,
   "id": "7180b130",
   "metadata": {},
   "outputs": [
    {
     "data": {
      "text/plain": [
       "(8695, 18177)"
      ]
     },
     "execution_count": 9,
     "metadata": {},
     "output_type": "execute_result"
    }
   ],
   "source": [
    "tfidf_result.shape"
   ]
  },
  {
   "cell_type": "code",
   "execution_count": 10,
   "id": "a47be917",
   "metadata": {},
   "outputs": [],
   "source": [
    "vectorizer = TfidfVectorizer(max_features=18177)\n",
    "tfidf_result = vectorizer.fit_transform(CommentsToBeTokenized).toarray()\n",
    "features = vectorizer.get_feature_names_out()\n",
    "tfidf_result = pd.DataFrame(tfidf_result, columns=features)"
   ]
  },
  {
   "cell_type": "code",
   "execution_count": 11,
   "id": "39f259b9",
   "metadata": {},
   "outputs": [],
   "source": [
    "from sklearn.model_selection import train_test_split\n",
    "from sklearn.metrics import classification_report\n",
    "from sklearn.naive_bayes import MultinomialNB\n",
    "NB= MultinomialNB()"
   ]
  },
  {
   "cell_type": "code",
   "execution_count": 18,
   "id": "42811692",
   "metadata": {},
   "outputs": [
    {
     "data": {
      "text/html": [
       "<style>#sk-container-id-3 {color: black;background-color: white;}#sk-container-id-3 pre{padding: 0;}#sk-container-id-3 div.sk-toggleable {background-color: white;}#sk-container-id-3 label.sk-toggleable__label {cursor: pointer;display: block;width: 100%;margin-bottom: 0;padding: 0.3em;box-sizing: border-box;text-align: center;}#sk-container-id-3 label.sk-toggleable__label-arrow:before {content: \"▸\";float: left;margin-right: 0.25em;color: #696969;}#sk-container-id-3 label.sk-toggleable__label-arrow:hover:before {color: black;}#sk-container-id-3 div.sk-estimator:hover label.sk-toggleable__label-arrow:before {color: black;}#sk-container-id-3 div.sk-toggleable__content {max-height: 0;max-width: 0;overflow: hidden;text-align: left;background-color: #f0f8ff;}#sk-container-id-3 div.sk-toggleable__content pre {margin: 0.2em;color: black;border-radius: 0.25em;background-color: #f0f8ff;}#sk-container-id-3 input.sk-toggleable__control:checked~div.sk-toggleable__content {max-height: 200px;max-width: 100%;overflow: auto;}#sk-container-id-3 input.sk-toggleable__control:checked~label.sk-toggleable__label-arrow:before {content: \"▾\";}#sk-container-id-3 div.sk-estimator input.sk-toggleable__control:checked~label.sk-toggleable__label {background-color: #d4ebff;}#sk-container-id-3 div.sk-label input.sk-toggleable__control:checked~label.sk-toggleable__label {background-color: #d4ebff;}#sk-container-id-3 input.sk-hidden--visually {border: 0;clip: rect(1px 1px 1px 1px);clip: rect(1px, 1px, 1px, 1px);height: 1px;margin: -1px;overflow: hidden;padding: 0;position: absolute;width: 1px;}#sk-container-id-3 div.sk-estimator {font-family: monospace;background-color: #f0f8ff;border: 1px dotted black;border-radius: 0.25em;box-sizing: border-box;margin-bottom: 0.5em;}#sk-container-id-3 div.sk-estimator:hover {background-color: #d4ebff;}#sk-container-id-3 div.sk-parallel-item::after {content: \"\";width: 100%;border-bottom: 1px solid gray;flex-grow: 1;}#sk-container-id-3 div.sk-label:hover label.sk-toggleable__label {background-color: #d4ebff;}#sk-container-id-3 div.sk-serial::before {content: \"\";position: absolute;border-left: 1px solid gray;box-sizing: border-box;top: 0;bottom: 0;left: 50%;z-index: 0;}#sk-container-id-3 div.sk-serial {display: flex;flex-direction: column;align-items: center;background-color: white;padding-right: 0.2em;padding-left: 0.2em;position: relative;}#sk-container-id-3 div.sk-item {position: relative;z-index: 1;}#sk-container-id-3 div.sk-parallel {display: flex;align-items: stretch;justify-content: center;background-color: white;position: relative;}#sk-container-id-3 div.sk-item::before, #sk-container-id-3 div.sk-parallel-item::before {content: \"\";position: absolute;border-left: 1px solid gray;box-sizing: border-box;top: 0;bottom: 0;left: 50%;z-index: -1;}#sk-container-id-3 div.sk-parallel-item {display: flex;flex-direction: column;z-index: 1;position: relative;background-color: white;}#sk-container-id-3 div.sk-parallel-item:first-child::after {align-self: flex-end;width: 50%;}#sk-container-id-3 div.sk-parallel-item:last-child::after {align-self: flex-start;width: 50%;}#sk-container-id-3 div.sk-parallel-item:only-child::after {width: 0;}#sk-container-id-3 div.sk-dashed-wrapped {border: 1px dashed gray;margin: 0 0.4em 0.5em 0.4em;box-sizing: border-box;padding-bottom: 0.4em;background-color: white;}#sk-container-id-3 div.sk-label label {font-family: monospace;font-weight: bold;display: inline-block;line-height: 1.2em;}#sk-container-id-3 div.sk-label-container {text-align: center;}#sk-container-id-3 div.sk-container {/* jupyter's `normalize.less` sets `[hidden] { display: none; }` but bootstrap.min.css set `[hidden] { display: none !important; }` so we also need the `!important` here to be able to override the default hidden behavior on the sphinx rendered scikit-learn.org. See: https://github.com/scikit-learn/scikit-learn/issues/21755 */display: inline-block !important;position: relative;}#sk-container-id-3 div.sk-text-repr-fallback {display: none;}</style><div id=\"sk-container-id-3\" class=\"sk-top-container\"><div class=\"sk-text-repr-fallback\"><pre>MultinomialNB()</pre><b>In a Jupyter environment, please rerun this cell to show the HTML representation or trust the notebook. <br />On GitHub, the HTML representation is unable to render, please try loading this page with nbviewer.org.</b></div><div class=\"sk-container\" hidden><div class=\"sk-item\"><div class=\"sk-estimator sk-toggleable\"><input class=\"sk-toggleable__control sk-hidden--visually\" id=\"sk-estimator-id-3\" type=\"checkbox\" checked><label for=\"sk-estimator-id-3\" class=\"sk-toggleable__label sk-toggleable__label-arrow\">MultinomialNB</label><div class=\"sk-toggleable__content\"><pre>MultinomialNB()</pre></div></div></div></div></div>"
      ],
      "text/plain": [
       "MultinomialNB()"
      ]
     },
     "execution_count": 18,
     "metadata": {},
     "output_type": "execute_result"
    }
   ],
   "source": [
    "xtrain, xvalid, ytrain, yvalid = train_test_split(tfidf_result, data['Topic'], test_size= 0.2)\n",
    "NB.fit(xtrain, ytrain)"
   ]
  },
  {
   "cell_type": "code",
   "execution_count": 19,
   "id": "a4419a5c",
   "metadata": {},
   "outputs": [],
   "source": [
    "ypred_train = NB.predict(xtrain)\n",
    "ypred = NB.predict(xvalid)"
   ]
  },
  {
   "cell_type": "code",
   "execution_count": 16,
   "id": "54a48d9d",
   "metadata": {},
   "outputs": [
    {
     "data": {
      "text/plain": [
       "(1739,)"
      ]
     },
     "execution_count": 16,
     "metadata": {},
     "output_type": "execute_result"
    }
   ],
   "source": [
    "ypred.shape"
   ]
  },
  {
   "cell_type": "code",
   "execution_count": 20,
   "id": "94f9d6f1",
   "metadata": {},
   "outputs": [
    {
     "name": "stdout",
     "output_type": "stream",
     "text": [
      "Training Results:\n",
      "\n"
     ]
    },
    {
     "ename": "ValueError",
     "evalue": "Found input variables with inconsistent numbers of samples: [6956, 1739]",
     "output_type": "error",
     "traceback": [
      "\u001b[0;31m---------------------------------------------------------------------------\u001b[0m",
      "\u001b[0;31mValueError\u001b[0m                                Traceback (most recent call last)",
      "Cell \u001b[0;32mIn[20], line 2\u001b[0m\n\u001b[1;32m      1\u001b[0m \u001b[38;5;28mprint\u001b[39m(\u001b[38;5;124m\"\u001b[39m\u001b[38;5;124mTraining Results:\u001b[39m\u001b[38;5;130;01m\\n\u001b[39;00m\u001b[38;5;124m\"\u001b[39m)\n\u001b[0;32m----> 2\u001b[0m \u001b[38;5;28mprint\u001b[39m(\u001b[43mclassification_report\u001b[49m\u001b[43m(\u001b[49m\u001b[43mytrain\u001b[49m\u001b[43m,\u001b[49m\u001b[43m \u001b[49m\u001b[43mypred\u001b[49m\u001b[43m)\u001b[49m)\n\u001b[1;32m      3\u001b[0m \u001b[38;5;28mprint\u001b[39m(\u001b[38;5;124m\"\u001b[39m\u001b[38;5;130;01m\\n\u001b[39;00m\u001b[38;5;124mValidation Results:\u001b[39m\u001b[38;5;130;01m\\n\u001b[39;00m\u001b[38;5;124m\"\u001b[39m)\n\u001b[1;32m      4\u001b[0m \u001b[38;5;28mprint\u001b[39m(classification_report(ytest, ypred))\n",
      "File \u001b[0;32m/Library/Frameworks/Python.framework/Versions/3.11/lib/python3.11/site-packages/sklearn/metrics/_classification.py:2310\u001b[0m, in \u001b[0;36mclassification_report\u001b[0;34m(y_true, y_pred, labels, target_names, sample_weight, digits, output_dict, zero_division)\u001b[0m\n\u001b[1;32m   2195\u001b[0m \u001b[38;5;28;01mdef\u001b[39;00m \u001b[38;5;21mclassification_report\u001b[39m(\n\u001b[1;32m   2196\u001b[0m     y_true,\n\u001b[1;32m   2197\u001b[0m     y_pred,\n\u001b[0;32m   (...)\u001b[0m\n\u001b[1;32m   2204\u001b[0m     zero_division\u001b[38;5;241m=\u001b[39m\u001b[38;5;124m\"\u001b[39m\u001b[38;5;124mwarn\u001b[39m\u001b[38;5;124m\"\u001b[39m,\n\u001b[1;32m   2205\u001b[0m ):\n\u001b[1;32m   2206\u001b[0m \u001b[38;5;250m    \u001b[39m\u001b[38;5;124;03m\"\"\"Build a text report showing the main classification metrics.\u001b[39;00m\n\u001b[1;32m   2207\u001b[0m \n\u001b[1;32m   2208\u001b[0m \u001b[38;5;124;03m    Read more in the :ref:`User Guide <classification_report>`.\u001b[39;00m\n\u001b[0;32m   (...)\u001b[0m\n\u001b[1;32m   2307\u001b[0m \u001b[38;5;124;03m    <BLANKLINE>\u001b[39;00m\n\u001b[1;32m   2308\u001b[0m \u001b[38;5;124;03m    \"\"\"\u001b[39;00m\n\u001b[0;32m-> 2310\u001b[0m     y_type, y_true, y_pred \u001b[38;5;241m=\u001b[39m \u001b[43m_check_targets\u001b[49m\u001b[43m(\u001b[49m\u001b[43my_true\u001b[49m\u001b[43m,\u001b[49m\u001b[43m \u001b[49m\u001b[43my_pred\u001b[49m\u001b[43m)\u001b[49m\n\u001b[1;32m   2312\u001b[0m     \u001b[38;5;28;01mif\u001b[39;00m labels \u001b[38;5;129;01mis\u001b[39;00m \u001b[38;5;28;01mNone\u001b[39;00m:\n\u001b[1;32m   2313\u001b[0m         labels \u001b[38;5;241m=\u001b[39m unique_labels(y_true, y_pred)\n",
      "File \u001b[0;32m/Library/Frameworks/Python.framework/Versions/3.11/lib/python3.11/site-packages/sklearn/metrics/_classification.py:86\u001b[0m, in \u001b[0;36m_check_targets\u001b[0;34m(y_true, y_pred)\u001b[0m\n\u001b[1;32m     59\u001b[0m \u001b[38;5;28;01mdef\u001b[39;00m \u001b[38;5;21m_check_targets\u001b[39m(y_true, y_pred):\n\u001b[1;32m     60\u001b[0m \u001b[38;5;250m    \u001b[39m\u001b[38;5;124;03m\"\"\"Check that y_true and y_pred belong to the same classification task.\u001b[39;00m\n\u001b[1;32m     61\u001b[0m \n\u001b[1;32m     62\u001b[0m \u001b[38;5;124;03m    This converts multiclass or binary types to a common shape, and raises a\u001b[39;00m\n\u001b[0;32m   (...)\u001b[0m\n\u001b[1;32m     84\u001b[0m \u001b[38;5;124;03m    y_pred : array or indicator matrix\u001b[39;00m\n\u001b[1;32m     85\u001b[0m \u001b[38;5;124;03m    \"\"\"\u001b[39;00m\n\u001b[0;32m---> 86\u001b[0m     \u001b[43mcheck_consistent_length\u001b[49m\u001b[43m(\u001b[49m\u001b[43my_true\u001b[49m\u001b[43m,\u001b[49m\u001b[43m \u001b[49m\u001b[43my_pred\u001b[49m\u001b[43m)\u001b[49m\n\u001b[1;32m     87\u001b[0m     type_true \u001b[38;5;241m=\u001b[39m type_of_target(y_true, input_name\u001b[38;5;241m=\u001b[39m\u001b[38;5;124m\"\u001b[39m\u001b[38;5;124my_true\u001b[39m\u001b[38;5;124m\"\u001b[39m)\n\u001b[1;32m     88\u001b[0m     type_pred \u001b[38;5;241m=\u001b[39m type_of_target(y_pred, input_name\u001b[38;5;241m=\u001b[39m\u001b[38;5;124m\"\u001b[39m\u001b[38;5;124my_pred\u001b[39m\u001b[38;5;124m\"\u001b[39m)\n",
      "File \u001b[0;32m/Library/Frameworks/Python.framework/Versions/3.11/lib/python3.11/site-packages/sklearn/utils/validation.py:397\u001b[0m, in \u001b[0;36mcheck_consistent_length\u001b[0;34m(*arrays)\u001b[0m\n\u001b[1;32m    395\u001b[0m uniques \u001b[38;5;241m=\u001b[39m np\u001b[38;5;241m.\u001b[39munique(lengths)\n\u001b[1;32m    396\u001b[0m \u001b[38;5;28;01mif\u001b[39;00m \u001b[38;5;28mlen\u001b[39m(uniques) \u001b[38;5;241m>\u001b[39m \u001b[38;5;241m1\u001b[39m:\n\u001b[0;32m--> 397\u001b[0m     \u001b[38;5;28;01mraise\u001b[39;00m \u001b[38;5;167;01mValueError\u001b[39;00m(\n\u001b[1;32m    398\u001b[0m         \u001b[38;5;124m\"\u001b[39m\u001b[38;5;124mFound input variables with inconsistent numbers of samples: \u001b[39m\u001b[38;5;132;01m%r\u001b[39;00m\u001b[38;5;124m\"\u001b[39m\n\u001b[1;32m    399\u001b[0m         \u001b[38;5;241m%\u001b[39m [\u001b[38;5;28mint\u001b[39m(l) \u001b[38;5;28;01mfor\u001b[39;00m l \u001b[38;5;129;01min\u001b[39;00m lengths]\n\u001b[1;32m    400\u001b[0m     )\n",
      "\u001b[0;31mValueError\u001b[0m: Found input variables with inconsistent numbers of samples: [6956, 1739]"
     ]
    }
   ],
   "source": [
    "print(\"Training Results:\\n\")\n",
    "print(classification_report(ytrain, ypred))\n",
    "print(\"\\nValidation Results:\\n\")\n",
    "print(classification_report(ytest, ypred))"
   ]
  },
  {
   "cell_type": "code",
   "execution_count": 5,
   "id": "fc714831",
   "metadata": {},
   "outputs": [],
   "source": [
    "df = data.groupby('Topic')"
   ]
  },
  {
   "cell_type": "code",
   "execution_count": 7,
   "id": "60e5577c",
   "metadata": {},
   "outputs": [
    {
     "data": {
      "text/html": [
       "<div>\n",
       "<style scoped>\n",
       "    .dataframe tbody tr th:only-of-type {\n",
       "        vertical-align: middle;\n",
       "    }\n",
       "\n",
       "    .dataframe tbody tr th {\n",
       "        vertical-align: top;\n",
       "    }\n",
       "\n",
       "    .dataframe thead th {\n",
       "        text-align: right;\n",
       "    }\n",
       "</style>\n",
       "<table border=\"1\" class=\"dataframe\">\n",
       "  <thead>\n",
       "    <tr style=\"text-align: right;\">\n",
       "      <th></th>\n",
       "      <th>Comment</th>\n",
       "    </tr>\n",
       "    <tr>\n",
       "      <th>Topic</th>\n",
       "      <th></th>\n",
       "    </tr>\n",
       "  </thead>\n",
       "  <tbody>\n",
       "    <tr>\n",
       "      <th>Biology</th>\n",
       "      <td>3591</td>\n",
       "    </tr>\n",
       "    <tr>\n",
       "      <th>Chemistry</th>\n",
       "      <td>2920</td>\n",
       "    </tr>\n",
       "    <tr>\n",
       "      <th>Physics</th>\n",
       "      <td>2184</td>\n",
       "    </tr>\n",
       "  </tbody>\n",
       "</table>\n",
       "</div>"
      ],
      "text/plain": [
       "           Comment\n",
       "Topic             \n",
       "Biology       3591\n",
       "Chemistry     2920\n",
       "Physics       2184"
      ]
     },
     "execution_count": 7,
     "metadata": {},
     "output_type": "execute_result"
    }
   ],
   "source": [
    "df.count()"
   ]
  },
  {
   "cell_type": "code",
   "execution_count": null,
   "id": "1a9111e7",
   "metadata": {},
   "outputs": [],
   "source": []
  },
  {
   "cell_type": "code",
   "execution_count": null,
   "id": "6ec9629b",
   "metadata": {},
   "outputs": [],
   "source": []
  },
  {
   "cell_type": "code",
   "execution_count": null,
   "id": "9fe121a0",
   "metadata": {},
   "outputs": [],
   "source": []
  },
  {
   "cell_type": "code",
   "execution_count": null,
   "id": "d1b4cf4b",
   "metadata": {},
   "outputs": [],
   "source": []
  },
  {
   "cell_type": "code",
   "execution_count": null,
   "id": "218aad34",
   "metadata": {},
   "outputs": [],
   "source": []
  },
  {
   "cell_type": "code",
   "execution_count": null,
   "id": "3c282368",
   "metadata": {},
   "outputs": [],
   "source": []
  },
  {
   "cell_type": "code",
   "execution_count": null,
   "id": "fa668e97",
   "metadata": {},
   "outputs": [],
   "source": []
  }
 ],
 "metadata": {
  "kernelspec": {
   "display_name": "Python 3 (ipykernel)",
   "language": "python",
   "name": "python3"
  },
  "language_info": {
   "codemirror_mode": {
    "name": "ipython",
    "version": 3
   },
   "file_extension": ".py",
   "mimetype": "text/x-python",
   "name": "python",
   "nbconvert_exporter": "python",
   "pygments_lexer": "ipython3",
   "version": "3.11.2"
  }
 },
 "nbformat": 4,
 "nbformat_minor": 5
}
