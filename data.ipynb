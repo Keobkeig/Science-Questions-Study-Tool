{
 "cells": [
  {
   "cell_type": "code",
   "execution_count": 1,
   "id": "b269004d",
   "metadata": {},
   "outputs": [],
   "source": [
    "import pandas as pd \n",
    "import nltk "
   ]
  },
  {
   "cell_type": "code",
   "execution_count": 2,
   "id": "e50d9e43",
   "metadata": {},
   "outputs": [
    {
     "data": {
      "text/html": [
       "<div>\n",
       "<style scoped>\n",
       "    .dataframe tbody tr th:only-of-type {\n",
       "        vertical-align: middle;\n",
       "    }\n",
       "\n",
       "    .dataframe tbody tr th {\n",
       "        vertical-align: top;\n",
       "    }\n",
       "\n",
       "    .dataframe thead th {\n",
       "        text-align: right;\n",
       "    }\n",
       "</style>\n",
       "<table border=\"1\" class=\"dataframe\">\n",
       "  <thead>\n",
       "    <tr style=\"text-align: right;\">\n",
       "      <th></th>\n",
       "      <th>Comment</th>\n",
       "      <th>Topic</th>\n",
       "    </tr>\n",
       "  </thead>\n",
       "  <tbody>\n",
       "    <tr>\n",
       "      <th>0</th>\n",
       "      <td>A few things. You might have negative- frequen...</td>\n",
       "      <td>Biology</td>\n",
       "    </tr>\n",
       "    <tr>\n",
       "      <th>1</th>\n",
       "      <td>Is it so hard to believe that there exist part...</td>\n",
       "      <td>Physics</td>\n",
       "    </tr>\n",
       "    <tr>\n",
       "      <th>2</th>\n",
       "      <td>There are bees</td>\n",
       "      <td>Biology</td>\n",
       "    </tr>\n",
       "    <tr>\n",
       "      <th>3</th>\n",
       "      <td>I'm a medication technician. And that's alot o...</td>\n",
       "      <td>Biology</td>\n",
       "    </tr>\n",
       "    <tr>\n",
       "      <th>4</th>\n",
       "      <td>Cesium is such a pretty metal.</td>\n",
       "      <td>Chemistry</td>\n",
       "    </tr>\n",
       "    <tr>\n",
       "      <th>...</th>\n",
       "      <td>...</td>\n",
       "      <td>...</td>\n",
       "    </tr>\n",
       "    <tr>\n",
       "      <th>8690</th>\n",
       "      <td>I make similar observations over the last week...</td>\n",
       "      <td>Biology</td>\n",
       "    </tr>\n",
       "    <tr>\n",
       "      <th>8691</th>\n",
       "      <td>You would know.</td>\n",
       "      <td>Biology</td>\n",
       "    </tr>\n",
       "    <tr>\n",
       "      <th>8692</th>\n",
       "      <td>Also use the correct number of sig figs</td>\n",
       "      <td>Chemistry</td>\n",
       "    </tr>\n",
       "    <tr>\n",
       "      <th>8693</th>\n",
       "      <td>What about the ethical delimmas,  groundbreaki...</td>\n",
       "      <td>Biology</td>\n",
       "    </tr>\n",
       "    <tr>\n",
       "      <th>8694</th>\n",
       "      <td>I would like to know too.</td>\n",
       "      <td>Biology</td>\n",
       "    </tr>\n",
       "  </tbody>\n",
       "</table>\n",
       "<p>8695 rows × 2 columns</p>\n",
       "</div>"
      ],
      "text/plain": [
       "                                                Comment      Topic\n",
       "0     A few things. You might have negative- frequen...    Biology\n",
       "1     Is it so hard to believe that there exist part...    Physics\n",
       "2                                        There are bees    Biology\n",
       "3     I'm a medication technician. And that's alot o...    Biology\n",
       "4                        Cesium is such a pretty metal.  Chemistry\n",
       "...                                                 ...        ...\n",
       "8690  I make similar observations over the last week...    Biology\n",
       "8691                                    You would know.    Biology\n",
       "8692            Also use the correct number of sig figs  Chemistry\n",
       "8693  What about the ethical delimmas,  groundbreaki...    Biology\n",
       "8694                          I would like to know too.    Biology\n",
       "\n",
       "[8695 rows x 2 columns]"
      ]
     },
     "execution_count": 2,
     "metadata": {},
     "output_type": "execute_result"
    }
   ],
   "source": [
    "data = pd.read_csv('train.csv')\n",
    "data.drop('Id',axis=1 , inplace=True)\n",
    "data"
   ]
  },
  {
   "cell_type": "code",
   "execution_count": 3,
   "id": "f1c73034",
   "metadata": {},
   "outputs": [
    {
     "data": {
      "text/plain": [
       "Comment    object\n",
       "Topic      object\n",
       "dtype: object"
      ]
     },
     "execution_count": 3,
     "metadata": {},
     "output_type": "execute_result"
    }
   ],
   "source": [
    "data.shape \n",
    "data.dtypes"
   ]
  },
  {
   "cell_type": "code",
   "execution_count": 5,
   "id": "23205bfe",
   "metadata": {},
   "outputs": [
    {
     "data": {
      "text/plain": [
       "0       A few things. You might have negative- frequen...\n",
       "1       Is it so hard to believe that there exist part...\n",
       "2                                          There are bees\n",
       "3       I'm a medication technician. And that's alot o...\n",
       "4                          Cesium is such a pretty metal.\n",
       "                              ...                        \n",
       "8690    I make similar observations over the last week...\n",
       "8691                                      You would know.\n",
       "8692              Also use the correct number of sig figs\n",
       "8693    What about the ethical delimmas,  groundbreaki...\n",
       "8694                            I would like to know too.\n",
       "Name: Comment, Length: 8695, dtype: object"
      ]
     },
     "execution_count": 5,
     "metadata": {},
     "output_type": "execute_result"
    }
   ],
   "source": [
    "CommentsToBeTokenized = data['Comment'] \n",
    "CommentsToBeTokenized"
   ]
  },
  {
   "cell_type": "code",
   "execution_count": 6,
   "id": "cec40583",
   "metadata": {},
   "outputs": [
    {
     "data": {
      "text/plain": [
       "['A',\n",
       " 'few',\n",
       " 'things.',\n",
       " 'You',\n",
       " 'might',\n",
       " 'have',\n",
       " 'negative-',\n",
       " 'frequency',\n",
       " 'dependent',\n",
       " 'selection',\n",
       " 'going',\n",
       " 'on',\n",
       " 'where',\n",
       " 'the',\n",
       " 'least',\n",
       " 'common',\n",
       " 'phenotype,',\n",
       " 'reflected',\n",
       " 'by',\n",
       " 'genotype,',\n",
       " 'is',\n",
       " 'going',\n",
       " 'to',\n",
       " 'have',\n",
       " 'an',\n",
       " 'advantage',\n",
       " 'in',\n",
       " 'the',\n",
       " 'environment.',\n",
       " 'For',\n",
       " 'instance,',\n",
       " 'if',\n",
       " 'a',\n",
       " 'prey',\n",
       " 'animal',\n",
       " 'such',\n",
       " 'as',\n",
       " 'a',\n",
       " 'vole',\n",
       " 'were',\n",
       " 'to',\n",
       " 'have',\n",
       " 'a',\n",
       " 'light',\n",
       " 'and',\n",
       " 'a',\n",
       " 'dark',\n",
       " 'phenotype,',\n",
       " 'a',\n",
       " 'predator',\n",
       " 'might',\n",
       " 'recognize',\n",
       " 'the',\n",
       " 'more',\n",
       " 'common',\n",
       " 'phenotype',\n",
       " 'as',\n",
       " 'food.',\n",
       " 'So',\n",
       " 'if',\n",
       " 'the',\n",
       " 'light',\n",
       " 'voles',\n",
       " 'are',\n",
       " 'more',\n",
       " 'common,',\n",
       " 'foxes',\n",
       " 'may',\n",
       " 'be',\n",
       " 'keeping',\n",
       " 'a',\n",
       " 'closer',\n",
       " 'eye',\n",
       " 'out',\n",
       " 'for',\n",
       " 'light',\n",
       " 'phenotypic',\n",
       " 'voles,',\n",
       " 'recognising',\n",
       " 'them',\n",
       " 'as',\n",
       " 'good',\n",
       " 'prey.',\n",
       " 'This',\n",
       " 'would',\n",
       " 'reduce',\n",
       " 'the',\n",
       " 'light',\n",
       " 'causing',\n",
       " 'alleles',\n",
       " 'due',\n",
       " 'to',\n",
       " 'increased',\n",
       " 'predation',\n",
       " 'and',\n",
       " 'the',\n",
       " 'dark',\n",
       " 'genotypes',\n",
       " 'would',\n",
       " 'increase',\n",
       " 'their',\n",
       " 'proportion',\n",
       " 'of',\n",
       " 'the',\n",
       " 'population',\n",
       " 'until',\n",
       " 'this',\n",
       " 'scenario',\n",
       " 'is',\n",
       " 'reversed.',\n",
       " 'This',\n",
       " 'cycle',\n",
       " 'continues',\n",
       " 'perpetually.',\n",
       " '\\\\n\\\\nHowever,',\n",
       " 'this',\n",
       " 'is',\n",
       " 'unlikely',\n",
       " 'to',\n",
       " 'be',\n",
       " 'strictly',\n",
       " 'yearly',\n",
       " 'as',\n",
       " 'it',\n",
       " 'usually',\n",
       " 'takes',\n",
       " 'more',\n",
       " 'time',\n",
       " 'than',\n",
       " 'a',\n",
       " 'year',\n",
       " 'for',\n",
       " 'an',\n",
       " 'entire',\n",
       " 'populations',\n",
       " 'allele',\n",
       " 'frequencies',\n",
       " 'to',\n",
       " 'change',\n",
       " 'enough',\n",
       " 'to',\n",
       " 'make',\n",
       " 'a',\n",
       " 'large',\n",
       " 'enough',\n",
       " 'difference',\n",
       " 'to',\n",
       " 'alter',\n",
       " 'fitness.',\n",
       " '\\\\n\\\\nMore',\n",
       " 'likely',\n",
       " 'on',\n",
       " 'a',\n",
       " '*year',\n",
       " 'to',\n",
       " 'year*',\n",
       " 'basis,',\n",
       " 'the',\n",
       " 'population',\n",
       " 'is',\n",
       " 'experiencing',\n",
       " 'fluctuating',\n",
       " 'selection',\n",
       " 'where',\n",
       " 'alternating',\n",
       " 'conditions',\n",
       " 'in',\n",
       " 'the',\n",
       " 'environment',\n",
       " 'favor',\n",
       " 'one',\n",
       " 'genotype',\n",
       " 'over',\n",
       " 'another.',\n",
       " 'Perhaps',\n",
       " 'a',\n",
       " 'plant',\n",
       " 'species',\n",
       " 'is',\n",
       " 'living',\n",
       " 'in',\n",
       " 'an',\n",
       " 'area',\n",
       " 'that',\n",
       " 'is',\n",
       " 'flooded',\n",
       " 'every',\n",
       " 'other',\n",
       " 'year',\n",
       " 'and',\n",
       " 'the',\n",
       " 'two',\n",
       " 'phenotypes',\n",
       " 'in',\n",
       " 'the',\n",
       " 'population',\n",
       " 'are',\n",
       " 'plants',\n",
       " 'that',\n",
       " 'do',\n",
       " 'much',\n",
       " 'better',\n",
       " 'in',\n",
       " 'the',\n",
       " 'dryer',\n",
       " 'year',\n",
       " 'and',\n",
       " 'one',\n",
       " 'that',\n",
       " 'does',\n",
       " 'better',\n",
       " 'in',\n",
       " 'the',\n",
       " 'wet',\n",
       " 'year.',\n",
       " 'If',\n",
       " 'there',\n",
       " 'is',\n",
       " 'no',\n",
       " 'flooding,',\n",
       " 'the',\n",
       " 'dry-type',\n",
       " 'genotype',\n",
       " 'will',\n",
       " 'have',\n",
       " 'more',\n",
       " 'fitness',\n",
       " 'leading',\n",
       " 'to',\n",
       " 'more',\n",
       " 'offspring',\n",
       " 'and',\n",
       " 'therefore',\n",
       " 'more',\n",
       " 'dry',\n",
       " 'alleles',\n",
       " 'in',\n",
       " 'the',\n",
       " 'population,',\n",
       " 'however,',\n",
       " 'in',\n",
       " 'flooded',\n",
       " 'years',\n",
       " 'the',\n",
       " 'wet-liking',\n",
       " 'phenotype',\n",
       " 'will',\n",
       " 'do',\n",
       " 'better',\n",
       " 'and',\n",
       " 'propagate',\n",
       " 'the',\n",
       " 'wet',\n",
       " 'genes.']"
      ]
     },
     "execution_count": 6,
     "metadata": {},
     "output_type": "execute_result"
    }
   ],
   "source": [
    "tokens = CommentsToBeTokenized[0].split()\n",
    "tokens"
   ]
  },
  {
   "cell_type": "code",
   "execution_count": 7,
   "id": "b46faf29",
   "metadata": {},
   "outputs": [],
   "source": [
    "from sklearn.feature_extraction.text import CountVectorizer\n",
    "cv = CountVectorizer()\n",
    "bow = cv.fit_transform(CommentsToBeTokenized)"
   ]
  },
  {
   "cell_type": "code",
   "execution_count": 8,
   "id": "eae866bd",
   "metadata": {},
   "outputs": [
    {
     "data": {
      "text/plain": [
       "<8695x18177 sparse matrix of type '<class 'numpy.int64'>'\n",
       "\twith 190076 stored elements in Compressed Sparse Row format>"
      ]
     },
     "execution_count": 8,
     "metadata": {},
     "output_type": "execute_result"
    }
   ],
   "source": [
    "bow"
   ]
  },
  {
   "cell_type": "code",
   "execution_count": 9,
   "id": "3cfa2f86",
   "metadata": {},
   "outputs": [],
   "source": [
    "from sklearn.feature_extraction.text import TfidfVectorizer\n",
    "tfidf = TfidfVectorizer()\n",
    "tfidf_result=tfidf.fit_transform(CommentsToBeTokenized).toarray()"
   ]
  },
  {
   "cell_type": "code",
   "execution_count": 10,
   "id": "7180b130",
   "metadata": {},
   "outputs": [
    {
     "data": {
      "text/plain": [
       "(8695, 18177)"
      ]
     },
     "execution_count": 10,
     "metadata": {},
     "output_type": "execute_result"
    }
   ],
   "source": [
    "tfidf_result.shape"
   ]
  },
  {
   "cell_type": "code",
   "execution_count": 32,
   "id": "a47be917",
   "metadata": {},
   "outputs": [],
   "source": [
    "vectorizer = TfidfVectorizer(max_features=18177)\n",
    "tfidf_result = vectorizer.fit_transform(CommentsToBeTokenized).toarray()\n",
    "features = vectorizer.get_feature_names_out()\n",
    "tfidf_result = pd.DataFrame(tfidf_result, columns=features)"
   ]
  },
  {
   "cell_type": "code",
   "execution_count": 33,
   "id": "39f259b9",
   "metadata": {},
   "outputs": [],
   "source": [
    "from sklearn.model_selection import train_test_split\n",
    "from sklearn.metrics import classification_report\n",
    "from sklearn.naive_bayes import MultinomialNB\n",
    "NB= MultinomialNB()"
   ]
  },
  {
   "cell_type": "code",
   "execution_count": null,
   "id": "42811692",
   "metadata": {},
   "outputs": [],
   "source": [
    "xtrain, xtest, ytrain, ytest = train_test_split(tfidf_result, data['Topic'], test_size= 0.1)\n",
    "NB.fit(xtrain, ytrain)"
   ]
  },
  {
   "cell_type": "code",
   "execution_count": null,
   "id": "a4419a5c",
   "metadata": {},
   "outputs": [],
   "source": [
    "ypred = NB.predict(xtrain)\n",
    "ypred = NB.predict(xtest)"
   ]
  },
  {
   "cell_type": "code",
   "execution_count": null,
   "id": "54a48d9d",
   "metadata": {},
   "outputs": [],
   "source": [
    "ypred.shape"
   ]
  },
  {
   "cell_type": "code",
   "execution_count": null,
   "id": "a251e985",
   "metadata": {},
   "outputs": [],
   "source": [
    "ytrain=ytrain[0:870]\n",
    "ytest=ytest[0:870]"
   ]
  },
  {
   "cell_type": "code",
   "execution_count": 31,
   "id": "94f9d6f1",
   "metadata": {},
   "outputs": [
    {
     "name": "stdout",
     "output_type": "stream",
     "text": [
      "Training Results:\n",
      "\n",
      "              precision    recall  f1-score   support\n",
      "\n",
      "     Biology       0.41      0.56      0.47       353\n",
      "   Chemistry       0.34      0.30      0.32       291\n",
      "     Physics       0.23      0.14      0.17       226\n",
      "\n",
      "    accuracy                           0.36       870\n",
      "   macro avg       0.33      0.33      0.32       870\n",
      "weighted avg       0.34      0.36      0.35       870\n",
      "\n",
      "\n",
      "Testing Results:\n",
      "\n",
      "              precision    recall  f1-score   support\n",
      "\n",
      "     Biology       0.69      0.90      0.78       369\n",
      "   Chemistry       0.73      0.66      0.69       285\n",
      "     Physics       0.89      0.55      0.68       216\n",
      "\n",
      "    accuracy                           0.73       870\n",
      "   macro avg       0.77      0.70      0.72       870\n",
      "weighted avg       0.75      0.73      0.72       870\n",
      "\n"
     ]
    }
   ],
   "source": [
    "print(\"Training Results:\\n\")\n",
    "print(classification_report(ytrain, ypred))\n",
    "print(\"\\nTesting Results:\\n\")\n",
    "print(classification_report(ytest, ypred))"
   ]
  },
  {
   "cell_type": "code",
   "execution_count": 5,
   "id": "fc714831",
   "metadata": {},
   "outputs": [],
   "source": [
    "df = data.groupby('Topic')"
   ]
  },
  {
   "cell_type": "code",
   "execution_count": 7,
   "id": "60e5577c",
   "metadata": {},
   "outputs": [
    {
     "data": {
      "text/html": [
       "<div>\n",
       "<style scoped>\n",
       "    .dataframe tbody tr th:only-of-type {\n",
       "        vertical-align: middle;\n",
       "    }\n",
       "\n",
       "    .dataframe tbody tr th {\n",
       "        vertical-align: top;\n",
       "    }\n",
       "\n",
       "    .dataframe thead th {\n",
       "        text-align: right;\n",
       "    }\n",
       "</style>\n",
       "<table border=\"1\" class=\"dataframe\">\n",
       "  <thead>\n",
       "    <tr style=\"text-align: right;\">\n",
       "      <th></th>\n",
       "      <th>Comment</th>\n",
       "    </tr>\n",
       "    <tr>\n",
       "      <th>Topic</th>\n",
       "      <th></th>\n",
       "    </tr>\n",
       "  </thead>\n",
       "  <tbody>\n",
       "    <tr>\n",
       "      <th>Biology</th>\n",
       "      <td>3591</td>\n",
       "    </tr>\n",
       "    <tr>\n",
       "      <th>Chemistry</th>\n",
       "      <td>2920</td>\n",
       "    </tr>\n",
       "    <tr>\n",
       "      <th>Physics</th>\n",
       "      <td>2184</td>\n",
       "    </tr>\n",
       "  </tbody>\n",
       "</table>\n",
       "</div>"
      ],
      "text/plain": [
       "           Comment\n",
       "Topic             \n",
       "Biology       3591\n",
       "Chemistry     2920\n",
       "Physics       2184"
      ]
     },
     "execution_count": 7,
     "metadata": {},
     "output_type": "execute_result"
    }
   ],
   "source": [
    "df.count()"
   ]
  },
  {
   "cell_type": "code",
   "execution_count": null,
   "id": "1a9111e7",
   "metadata": {},
   "outputs": [],
   "source": []
  },
  {
   "cell_type": "code",
   "execution_count": null,
   "id": "6ec9629b",
   "metadata": {},
   "outputs": [],
   "source": []
  },
  {
   "cell_type": "code",
   "execution_count": null,
   "id": "9fe121a0",
   "metadata": {},
   "outputs": [],
   "source": []
  },
  {
   "cell_type": "code",
   "execution_count": null,
   "id": "d1b4cf4b",
   "metadata": {},
   "outputs": [],
   "source": []
  },
  {
   "cell_type": "code",
   "execution_count": null,
   "id": "218aad34",
   "metadata": {},
   "outputs": [],
   "source": []
  },
  {
   "cell_type": "code",
   "execution_count": null,
   "id": "3c282368",
   "metadata": {},
   "outputs": [],
   "source": []
  },
  {
   "cell_type": "code",
   "execution_count": null,
   "id": "fa668e97",
   "metadata": {},
   "outputs": [],
   "source": []
  }
 ],
 "metadata": {
  "kernelspec": {
   "display_name": "Python 3 (ipykernel)",
   "language": "python",
   "name": "python3"
  },
  "language_info": {
   "codemirror_mode": {
    "name": "ipython",
    "version": 3
   },
   "file_extension": ".py",
   "mimetype": "text/x-python",
   "name": "python",
   "nbconvert_exporter": "python",
   "pygments_lexer": "ipython3",
   "version": "3.9.13"
  }
 },
 "nbformat": 4,
 "nbformat_minor": 5
}
